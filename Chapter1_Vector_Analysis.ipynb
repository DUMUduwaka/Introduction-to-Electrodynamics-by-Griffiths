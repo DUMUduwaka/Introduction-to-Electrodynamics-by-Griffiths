{
  "nbformat": 4,
  "nbformat_minor": 0,
  "metadata": {
    "colab": {
      "provenance": []
    },
    "kernelspec": {
      "name": "python3",
      "display_name": "Python 3"
    },
    "language_info": {
      "name": "python"
    }
  },
  "cells": [
    {
      "cell_type": "code",
      "source": [
        "import numpy as np\n",
        "import sympy as sm"
      ],
      "metadata": {
        "id": "6XJGQAPQjMeN"
      },
      "execution_count": 1,
      "outputs": []
    },
    {
      "cell_type": "markdown",
      "source": [
        "## Problem 3"
      ],
      "metadata": {
        "id": "9ZUTsFhLjBSy"
      }
    },
    {
      "cell_type": "code",
      "source": [
        "A = np.array([1,0,1]) #defining two vectors\n",
        "B = np.array([0,1,1])\n",
        "\n",
        "A_dot_B = A.dot(B) #vector dot product\n",
        "np.linalg.norm(A) #magnitude of the vector"
      ],
      "metadata": {
        "colab": {
          "base_uri": "https://localhost:8080/"
        },
        "id": "z-jThBQ5jG5P",
        "outputId": "618666f0-d993-41d8-9009-007eec2c9d19"
      },
      "execution_count": 16,
      "outputs": [
        {
          "output_type": "execute_result",
          "data": {
            "text/plain": [
              "1.4142135623730951"
            ]
          },
          "metadata": {},
          "execution_count": 16
        }
      ]
    },
    {
      "cell_type": "code",
      "source": [
        "cos_theta = A_dot_B/(np.linalg.norm(A)*np.linalg.norm(B))\n",
        "print(cos_theta)\n",
        "theta = np.arccos(cos_theta)\n",
        "print(theta*180/np.pi)"
      ],
      "metadata": {
        "colab": {
          "base_uri": "https://localhost:8080/"
        },
        "id": "LhGBwkPXkjTO",
        "outputId": "f66afec1-0ee1-446c-cbdd-9ee73459eeb2"
      },
      "execution_count": 17,
      "outputs": [
        {
          "output_type": "stream",
          "name": "stdout",
          "text": [
            "0.4999999999999999\n",
            "60.00000000000001\n"
          ]
        }
      ]
    }
  ]
}