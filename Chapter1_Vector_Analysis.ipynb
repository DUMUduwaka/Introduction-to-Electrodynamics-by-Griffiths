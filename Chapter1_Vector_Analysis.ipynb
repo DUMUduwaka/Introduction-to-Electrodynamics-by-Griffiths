{
  "cells": [
    {
      "cell_type": "code",
      "execution_count": 52,
      "metadata": {
        "id": "6XJGQAPQjMeN"
      },
      "outputs": [],
      "source": [
        "import numpy as np\n",
        "import sympy as sym\n",
        "import matplotlib.pyplot as plt\n"
      ]
    },
    {
      "attachments": {},
      "cell_type": "markdown",
      "metadata": {
        "id": "9ZUTsFhLjBSy"
      },
      "source": [
        "### Example 2"
      ]
    },
    {
      "cell_type": "code",
      "execution_count": 53,
      "metadata": {
        "colab": {
          "base_uri": "https://localhost:8080/"
        },
        "id": "z-jThBQ5jG5P",
        "outputId": "618666f0-d993-41d8-9009-007eec2c9d19"
      },
      "outputs": [
        {
          "data": {
            "text/plain": [
              "1.4142135623730951"
            ]
          },
          "execution_count": 53,
          "metadata": {},
          "output_type": "execute_result"
        }
      ],
      "source": [
        "A = np.array([1, 0, 1])  # defining two vectors\n",
        "B = np.array([0, 1, 1])\n",
        "\n",
        "A_dot_B = A.dot(B)  # vector dot product\n",
        "np.linalg.norm(A)  # magnitude of the vector\n"
      ]
    },
    {
      "cell_type": "code",
      "execution_count": 54,
      "metadata": {
        "colab": {
          "base_uri": "https://localhost:8080/"
        },
        "id": "LhGBwkPXkjTO",
        "outputId": "f66afec1-0ee1-446c-cbdd-9ee73459eeb2"
      },
      "outputs": [
        {
          "name": "stdout",
          "output_type": "stream",
          "text": [
            "0.4999999999999999\n",
            "60.00000000000001\n"
          ]
        }
      ],
      "source": [
        "cos_theta = A_dot_B/(np.linalg.norm(A)*np.linalg.norm(B))\n",
        "print(cos_theta)\n",
        "\n",
        "theta = np.arccos(cos_theta)\n",
        "print(theta*180/np.pi)\n"
      ]
    },
    {
      "attachments": {},
      "cell_type": "markdown",
      "metadata": {},
      "source": [
        "### Problem 3"
      ]
    },
    {
      "cell_type": "code",
      "execution_count": 55,
      "metadata": {},
      "outputs": [
        {
          "name": "stdout",
          "output_type": "stream",
          "text": [
            "the angle between two body diagonals is 70.53\n"
          ]
        }
      ],
      "source": [
        "# defining two body diagonals of a cube\n",
        "C = np.array([1, 1, 1])\n",
        "D = np.array([1, -1, 1])\n",
        "\n",
        "# Let the angle is theta\n",
        "\n",
        "cos_theta = C.dot(D)/(np.linalg.norm(C)*np.linalg.norm(D))\n",
        "theta = np.arccos(cos_theta)\n",
        "print(\"the angle between two body diagonals is\", round(theta*180/np.pi, 2))\n"
      ]
    },
    {
      "attachments": {},
      "cell_type": "markdown",
      "metadata": {},
      "source": [
        "### Problem 4"
      ]
    },
    {
      "cell_type": "code",
      "execution_count": 56,
      "metadata": {},
      "outputs": [
        {
          "name": "stdout",
          "output_type": "stream",
          "text": [
            "[0.85714286 0.42857143 0.28571429]\n"
          ]
        }
      ],
      "source": [
        "# defining position vectors\n",
        "a = np.array([1, 0, 0])\n",
        "b = np.array([0, 2, 0])\n",
        "c = np.array([0, 0, 3])\n",
        "\n",
        "AC = c-a\n",
        "AB = b-a\n",
        "\n",
        "AB_cross_AC = np.cross(AB, AC)\n",
        "unit_vector = AB_cross_AC/np.linalg.norm(AB_cross_AC)\n",
        "print(unit_vector)\n"
      ]
    },
    {
      "attachments": {},
      "cell_type": "markdown",
      "metadata": {},
      "source": [
        "### Problem 11"
      ]
    },
    {
      "cell_type": "code",
      "execution_count": 89,
      "metadata": {},
      "outputs": [
        {
          "name": "stdout",
          "output_type": "stream",
          "text": [
            "(2*x, 3*y**2, 4*z**3)\n",
            "(2*x*y**3*z**4, 3*x**2*y**2*z**4, 4*x**2*y**3*z**3)\n",
            "(exp(x)*log(z)*sin(y), exp(x)*log(z)*cos(y), exp(x)*sin(y)/z)\n"
          ]
        }
      ],
      "source": [
        "x, y, z = sym.symbols('x y z')  # defining variable as symbols\n",
        "\n",
        "# defining functions\n",
        "f1 = x**2+y**3+z**4\n",
        "f2 = x**2*y**3*z**4\n",
        "f3 = sym.exp(x)*sym.sin(y)*sym.ln(z)\n",
        "\n",
        "\n",
        "def gradient(func):\n",
        "    Dx = sym.diff(func, x)\n",
        "    Dy = sym.diff(func, y)\n",
        "    Dz = sym.diff(func, z)\n",
        "    return Dx, Dy, Dz\n",
        "\n",
        "\n",
        "print(gradient(f1))\n",
        "print(gradient(f2))\n",
        "print(gradient(f3))\n"
      ]
    }
  ],
  "metadata": {
    "colab": {
      "provenance": []
    },
    "kernelspec": {
      "display_name": "Python 3",
      "name": "python3"
    },
    "language_info": {
      "codemirror_mode": {
        "name": "ipython",
        "version": 3
      },
      "file_extension": ".py",
      "mimetype": "text/x-python",
      "name": "python",
      "nbconvert_exporter": "python",
      "pygments_lexer": "ipython3",
      "version": "3.10.4"
    }
  },
  "nbformat": 4,
  "nbformat_minor": 0
}
