{
  "cells": [
    {
      "cell_type": "code",
      "execution_count": 1,
      "metadata": {
        "id": "6XJGQAPQjMeN"
      },
      "outputs": [],
      "source": [
        "import numpy as np\n",
        "import sympy as sm\n"
      ]
    },
    {
      "attachments": {},
      "cell_type": "markdown",
      "metadata": {
        "id": "9ZUTsFhLjBSy"
      },
      "source": [
        "### Problem 3"
      ]
    },
    {
      "cell_type": "code",
      "execution_count": 2,
      "metadata": {
        "colab": {
          "base_uri": "https://localhost:8080/"
        },
        "id": "z-jThBQ5jG5P",
        "outputId": "618666f0-d993-41d8-9009-007eec2c9d19"
      },
      "outputs": [
        {
          "data": {
            "text/plain": [
              "1.4142135623730951"
            ]
          },
          "execution_count": 2,
          "metadata": {},
          "output_type": "execute_result"
        }
      ],
      "source": [
        "A = np.array([1, 0, 1])  # defining two vectors\n",
        "B = np.array([0, 1, 1])\n",
        "\n",
        "A_dot_B = A.dot(B)  # vector dot product\n",
        "np.linalg.norm(A)  # magnitude of the vector\n"
      ]
    },
    {
      "cell_type": "code",
      "execution_count": 3,
      "metadata": {
        "colab": {
          "base_uri": "https://localhost:8080/"
        },
        "id": "LhGBwkPXkjTO",
        "outputId": "f66afec1-0ee1-446c-cbdd-9ee73459eeb2"
      },
      "outputs": [
        {
          "name": "stdout",
          "output_type": "stream",
          "text": [
            "0.4999999999999999\n",
            "60.00000000000001\n"
          ]
        }
      ],
      "source": [
        "cos_theta = A_dot_B/(np.linalg.norm(A)*np.linalg.norm(B))\n",
        "print(cos_theta)\n",
        "theta = np.arccos(cos_theta)\n",
        "print(theta*180/np.pi)\n"
      ]
    },
    {
      "attachments": {},
      "cell_type": "markdown",
      "metadata": {},
      "source": [
        "### Problem 4"
      ]
    }
  ],
  "metadata": {
    "colab": {
      "provenance": []
    },
    "kernelspec": {
      "display_name": "Python 3",
      "name": "python3"
    },
    "language_info": {
      "codemirror_mode": {
        "name": "ipython",
        "version": 3
      },
      "file_extension": ".py",
      "mimetype": "text/x-python",
      "name": "python",
      "nbconvert_exporter": "python",
      "pygments_lexer": "ipython3",
      "version": "3.10.4"
    }
  },
  "nbformat": 4,
  "nbformat_minor": 0
}
